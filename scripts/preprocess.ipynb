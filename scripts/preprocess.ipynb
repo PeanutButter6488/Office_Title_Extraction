{
 "cells": [
  {
   "cell_type": "code",
   "execution_count": 1,
   "id": "fd5abb10-4413-4d9a-b35a-a6d412cc3a0f",
   "metadata": {},
   "outputs": [],
   "source": [
    "import os"
   ]
  },
  {
   "cell_type": "code",
   "execution_count": 2,
   "id": "a57627ac-7cf2-44f3-9f56-5db2c9732008",
   "metadata": {},
   "outputs": [],
   "source": [
    "path = '../source/'"
   ]
  },
  {
   "cell_type": "code",
   "execution_count": 3,
   "id": "3fa065c9-419d-452e-a750-fe4cbc84cdb7",
   "metadata": {},
   "outputs": [],
   "source": [
    "filename = []\n",
    "for dic in os.listdir(path):\n",
    "    if dic != '.ipynb_checkpoints':\n",
    "        filename.append(dic)"
   ]
  },
  {
   "cell_type": "code",
   "execution_count": 4,
   "id": "7a6dcb4c-9474-4925-98dd-514e8f621d00",
   "metadata": {},
   "outputs": [],
   "source": [
    "def read_in(file):\n",
    "    f = open(file, 'r')\n",
    "    source = f.readlines()\n",
    "    for i in range(len(source)):\n",
    "        source[i] = source[i].strip()\n",
    "    f.close()\n",
    "    return source"
   ]
  },
  {
   "cell_type": "code",
   "execution_count": 5,
   "id": "6afed07d-07b2-4267-9782-300c847741e3",
   "metadata": {},
   "outputs": [],
   "source": [
    "def stopword_extract(source):\n",
    "    stopwords = read_in('../assets/stopwords.txt')\n",
    "    for i in range(len(source)):\n",
    "        source[i] = source[i].strip()\n",
    "        for words in stopwords:\n",
    "            if words in source[i]:\n",
    "                source[i] = source[i].replace(words, '')\n",
    "    return source"
   ]
  },
  {
   "cell_type": "code",
   "execution_count": 6,
   "id": "d5e33999-338a-4af7-8362-efa40ff59c12",
   "metadata": {},
   "outputs": [],
   "source": [
    "for source in filename:\n",
    "    s = read_in('../source/%s' % source)\n",
    "    s = stopword_extract(s)\n",
    "    f = open('../source_processed/%s_processed' % source, 'w')\n",
    "    for i in range(len(s)):\n",
    "        f.write(s[i] + '\\n')\n",
    "    f.close()"
   ]
  }
 ],
 "metadata": {
  "kernelspec": {
   "display_name": "Python 3",
   "language": "python",
   "name": "python3"
  },
  "language_info": {
   "codemirror_mode": {
    "name": "ipython",
    "version": 3
   },
   "file_extension": ".py",
   "mimetype": "text/x-python",
   "name": "python",
   "nbconvert_exporter": "python",
   "pygments_lexer": "ipython3",
   "version": "3.9.12"
  }
 },
 "nbformat": 4,
 "nbformat_minor": 5
}
