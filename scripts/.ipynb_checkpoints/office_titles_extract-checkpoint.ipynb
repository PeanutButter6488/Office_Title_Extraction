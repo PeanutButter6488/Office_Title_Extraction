{
 "cells": [
  {
   "cell_type": "markdown",
   "metadata": {},
   "source": [
    "# Office Title Extraction\n",
    "Ding Zhang\n",
    "\n",
    "This ipynb file extracts office titles from the given source file (original text) and the target file (translation file)"
   ]
  },
  {
   "cell_type": "code",
   "execution_count": 1,
   "metadata": {},
   "outputs": [],
   "source": [
    "import numpy as np\n",
    "import pandas as pd\n",
    "from tqdm import tqdm\n",
    "import opencc\n",
    "import os"
   ]
  },
  {
   "cell_type": "code",
   "execution_count": 2,
   "metadata": {},
   "outputs": [
    {
     "data": {
      "text/plain": [
       "['N-gram-beiqi',\n",
       " 'N-gram-beishi',\n",
       " 'N-gram-wei',\n",
       " 'N-gram-yuan',\n",
       " 'N-gram-nanshi',\n",
       " 'N-gram-xinwudai',\n",
       " 'N-gram-nanqi',\n",
       " 'N-gram-shiji',\n",
       " 'N-gram-houhan',\n",
       " 'N-gram-zhoushu',\n",
       " 'N-gram-taiping',\n",
       " 'N-gram-songshi',\n",
       " 'N-gram-xuxia',\n",
       " 'N-gram-xintang',\n",
       " 'N-gram-jiuwudai',\n",
       " 'N-gram-jiutang',\n",
       " 'N-gram-ming',\n",
       " 'N-gram-jin',\n",
       " 'N-gram-liang',\n",
       " 'N-gram-han',\n",
       " 'N-gram-zizhi',\n",
       " 'N-gram-liao',\n",
       " 'N-gram-jinshi',\n",
       " 'N-gram-chen',\n",
       " 'N-gram-suishu',\n",
       " 'N-gram-shuijing']"
      ]
     },
     "execution_count": 2,
     "metadata": {},
     "output_type": "execute_result"
    }
   ],
   "source": [
    "directory = []\n",
    "for dic in os.listdir('../ngram/'):\n",
    "    if dic != '.ipynb_checkpoints':\n",
    "        directory.append(dic)\n",
    "directory"
   ]
  },
  {
   "cell_type": "code",
   "execution_count": 3,
   "metadata": {},
   "outputs": [],
   "source": [
    "source = 'shuijing'"
   ]
  },
  {
   "cell_type": "code",
   "execution_count": 4,
   "metadata": {},
   "outputs": [],
   "source": [
    "# Read in N-grams\n",
    "ngram = []\n",
    "n10 = pd.read_csv('../ngram/N-gram-%s/n_10.csv' % source).rename(columns={'原文':'source', '翻译':'target'})\n",
    "n9 = pd.read_csv('../ngram/N-gram-%s/n_9.csv' % source).rename(columns={'原文':'source', '翻译':'target'})\n",
    "n8 = pd.read_csv('../ngram/N-gram-%s/n_8.csv' % source).rename(columns={'原文':'source', '翻译':'target'})\n",
    "n7 = pd.read_csv('../ngram/N-gram-%s/n_7.csv' % source).rename(columns={'原文':'source', '翻译':'target'})\n",
    "n6 = pd.read_csv('../ngram/N-gram-%s/n_6.csv' % source).rename(columns={'原文':'source', '翻译':'target'})\n",
    "n5 = pd.read_csv('../ngram/N-gram-%s/n_5.csv' % source).rename(columns={'原文':'source', '翻译':'target'})\n",
    "ngram.append(n10)\n",
    "ngram.append(n9)\n",
    "ngram.append(n8)\n",
    "ngram.append(n7)\n",
    "ngram.append(n6)\n",
    "ngram.append(n5)"
   ]
  },
  {
   "cell_type": "code",
   "execution_count": 5,
   "metadata": {},
   "outputs": [],
   "source": [
    "# Filter out rows that are 0 \n",
    "for i in range(len(ngram)):\n",
    "    ngram[i] = ngram[i][(ngram[i]['source'] != 0)]\n",
    "    ngram[i] = ngram[i][(ngram[i]['target'] != 0)]"
   ]
  },
  {
   "cell_type": "code",
   "execution_count": 6,
   "metadata": {},
   "outputs": [],
   "source": [
    "# Read in list of numbers\n",
    "f = open('../assets/numbers.txt', 'r')\n",
    "num_list = f.readlines()\n",
    "for i in range(len(num_list)):\n",
    "    num_list[i] = num_list[i].strip()"
   ]
  },
  {
   "cell_type": "code",
   "execution_count": 7,
   "metadata": {},
   "outputs": [],
   "source": [
    "# Add to dictionary\n",
    "office_title = {}\n",
    "for i in range(len(ngram)):\n",
    "    for index, row in ngram[i].iterrows():\n",
    "        office_title[row['N-gram']] = row['source']"
   ]
  },
  {
   "cell_type": "code",
   "execution_count": 8,
   "metadata": {},
   "outputs": [],
   "source": [
    "titles = list(office_title.keys())\n",
    "freq = list(office_title.values())"
   ]
  },
  {
   "cell_type": "code",
   "execution_count": 9,
   "metadata": {},
   "outputs": [
    {
     "data": {
      "text/plain": [
       "3863"
      ]
     },
     "execution_count": 9,
     "metadata": {},
     "output_type": "execute_result"
    }
   ],
   "source": [
    "# Extract strings with at least two numbers (meaning the string is a year index not an office title)\n",
    "for i in range(len(titles)):\n",
    "    count = 0\n",
    "    for num in num_list:\n",
    "        if num in titles[i]:\n",
    "            count += 1\n",
    "    if count > 1:\n",
    "        titles[i] = ''\n",
    "        freq[i] = ''\n",
    "\n",
    "# Extract empty strings\n",
    "titles = [item for item in titles if item != '']\n",
    "freq = [f for f in freq if f != '']\n",
    "len(titles)"
   ]
  },
  {
   "cell_type": "code",
   "execution_count": 10,
   "metadata": {},
   "outputs": [
    {
     "data": {
      "text/plain": [
       "True"
      ]
     },
     "execution_count": 10,
     "metadata": {},
     "output_type": "execute_result"
    }
   ],
   "source": [
    "# Brute force to increase accuracy\n",
    "for i in range(len(titles)):\n",
    "    if titles[i][-1] == \"人\":\n",
    "        titles[i] = ''\n",
    "        freq[i] = ''\n",
    "\n",
    "titles = [item for item in titles if item != '']\n",
    "freq = [f for f in freq if f != '']\n",
    "len(titles) == len(freq)"
   ]
  },
  {
   "cell_type": "code",
   "execution_count": 11,
   "metadata": {},
   "outputs": [
    {
     "data": {
      "text/plain": [
       "3846"
      ]
     },
     "execution_count": 11,
     "metadata": {},
     "output_type": "execute_result"
    }
   ],
   "source": [
    "len(titles)"
   ]
  },
  {
   "cell_type": "code",
   "execution_count": 12,
   "metadata": {},
   "outputs": [],
   "source": [
    "# Keep an copy of the original titles and frequencies for sanity check\n",
    "f = open('../test_files/orgtitle_freq.txt', 'w')\n",
    "for i in range(len(titles)):\n",
    "    f.write(titles[i] + \":\" + str(freq[i]) + \"\\n\")\n",
    "f.close()"
   ]
  },
  {
   "cell_type": "code",
   "execution_count": 13,
   "metadata": {},
   "outputs": [],
   "source": [
    "# merge similar duo-grams into a larger one   同中书门下平，中书门下平章 ==> 同中书门下平章事\n",
    "def merge_duogram(title):\n",
    "    for i in tqdm(range(len(title))):\n",
    "        if title[i] != '':\n",
    "            pivot = 1\n",
    "            for j in range(i+1, len(title)):\n",
    "                if (title[j][0] == title[i][pivot]) and (title[j][-2] == title[i][-1]):\n",
    "                    title[i] += title[j][-1]\n",
    "                    title[j] = ''\n",
    "                    freq[j] = ''\n",
    "                    pivot += 1\n",
    "                else:\n",
    "                    i += j\n",
    "                    pivot = 0\n",
    "                    break"
   ]
  },
  {
   "cell_type": "code",
   "execution_count": 14,
   "metadata": {},
   "outputs": [
    {
     "name": "stderr",
     "output_type": "stream",
     "text": [
      "100%|██████████| 3846/3846 [00:00<00:00, 1629094.44it/s]\n"
     ]
    }
   ],
   "source": [
    "merge_duogram(titles)"
   ]
  },
  {
   "cell_type": "code",
   "execution_count": 15,
   "metadata": {},
   "outputs": [
    {
     "data": {
      "text/plain": [
       "True"
      ]
     },
     "execution_count": 15,
     "metadata": {},
     "output_type": "execute_result"
    }
   ],
   "source": [
    "# drop all empty strings\n",
    "titles = [item for item in titles if item != '']\n",
    "freq = [f for f in freq if f != '']\n",
    "len(titles) == len(freq)"
   ]
  },
  {
   "cell_type": "code",
   "execution_count": 16,
   "metadata": {},
   "outputs": [
    {
     "data": {
      "text/plain": [
       "2434"
      ]
     },
     "execution_count": 16,
     "metadata": {},
     "output_type": "execute_result"
    }
   ],
   "source": [
    "len(titles)"
   ]
  },
  {
   "cell_type": "code",
   "execution_count": 17,
   "metadata": {},
   "outputs": [
    {
     "data": {
      "text/plain": [
       "True"
      ]
     },
     "execution_count": 17,
     "metadata": {},
     "output_type": "execute_result"
    }
   ],
   "source": [
    "len(titles) == len(freq)"
   ]
  },
  {
   "cell_type": "code",
   "execution_count": 18,
   "metadata": {},
   "outputs": [],
   "source": [
    "# sanity check\n",
    "s1 = []\n",
    "s2 = []\n",
    "s3 = []\n",
    "s4 = []\n",
    "s5 = []"
   ]
  },
  {
   "cell_type": "code",
   "execution_count": 19,
   "metadata": {},
   "outputs": [
    {
     "name": "stderr",
     "output_type": "stream",
     "text": [
      "100%|██████████| 2433/2433 [00:01<00:00, 2130.59it/s]\n",
      "100%|██████████| 2433/2433 [00:00<00:00, 4081.41it/s]\n"
     ]
    }
   ],
   "source": [
    "# Apply the algorithm\n",
    "# for k in range(4):\n",
    "for i in tqdm(range(len(titles) - 1)):\n",
    "    if titles[i] != '':\n",
    "        for j in range(i+1, len(titles)):\n",
    "            if titles[j] != '':\n",
    "                fratio = freq[i] / freq[j]\n",
    "                if fratio == 1:\n",
    "                    # must be substring\n",
    "                    if len(titles[i]) > len(titles[j]):\n",
    "                        if titles[j] in titles[i] and (titles[i].find(titles[j])) == 0:\n",
    "                            s1.append((titles[j], titles[i])) \n",
    "                            titles[j] = ''\n",
    "                            freq[j] = ''\n",
    "                            \n",
    "for i in tqdm(range(len(titles) - 1)):\n",
    "    if titles[i] != '':\n",
    "        for j in range(i+1, len(titles)):\n",
    "            if titles[j] != '':\n",
    "                fratio = freq[i] / freq[j]\n",
    "                if fratio < 1:\n",
    "                    if len(titles[i]) > len(titles[j]):\n",
    "                        if (titles[j] in titles[i]): \n",
    "                            if (titles[i].find(titles[j])) != 0: #南转运判官，淮南转运判官，湖南转运判官\n",
    "                                if (freq[j] - freq[i]) <= 1.5*freq[i]:\n",
    "                                    s2.append((titles[j], titles[i]))\n",
    "                                    titles[j] = ''\n",
    "                                    freq[j] = ''\n",
    "                                    break\n",
    "                            else:\n",
    "                                if (freq[j] - freq[i]) <= 1.5*freq[i]:\n",
    "                                    s3.append((titles[j], titles[i]))\n",
    "                                    titles[j] = ''\n",
    "                                    freq[j] = ''\n",
    "                                    break\n",
    "                                else:\n",
    "                                    s4.append((titles[i], titles[j]))\n",
    "                                    titles[i] = ''\n",
    "                                    freq[i] = ''\n",
    "                                    break"
   ]
  },
  {
   "cell_type": "code",
   "execution_count": 20,
   "metadata": {},
   "outputs": [
    {
     "data": {
      "text/plain": [
       "True"
      ]
     },
     "execution_count": 20,
     "metadata": {},
     "output_type": "execute_result"
    }
   ],
   "source": [
    "titles = [item for item in titles if item != '']\n",
    "freq = [f for f in freq if f != '']\n",
    "len(titles) == len(freq)"
   ]
  },
  {
   "cell_type": "code",
   "execution_count": 21,
   "metadata": {},
   "outputs": [
    {
     "data": {
      "text/plain": [
       "2346"
      ]
     },
     "execution_count": 21,
     "metadata": {},
     "output_type": "execute_result"
    }
   ],
   "source": [
    "len(titles)"
   ]
  },
  {
   "cell_type": "code",
   "execution_count": 22,
   "metadata": {},
   "outputs": [
    {
     "data": {
      "text/plain": [
       "True"
      ]
     },
     "execution_count": 22,
     "metadata": {},
     "output_type": "execute_result"
    }
   ],
   "source": [
    "# Extract words with frequency only 1, mostly likely meaningless string came from merging duograms\n",
    "for i in range(len(freq)):\n",
    "    if freq[i] == 1:\n",
    "        freq[i] = ''\n",
    "        titles[i] = ''\n",
    "titles = [item for item in titles if item != '']\n",
    "freq = [f for f in freq if f != '']\n",
    "len(titles) == len(freq)"
   ]
  },
  {
   "cell_type": "code",
   "execution_count": 23,
   "metadata": {},
   "outputs": [
    {
     "data": {
      "text/plain": [
       "136"
      ]
     },
     "execution_count": 23,
     "metadata": {},
     "output_type": "execute_result"
    }
   ],
   "source": [
    "len(titles)"
   ]
  },
  {
   "cell_type": "code",
   "execution_count": 24,
   "metadata": {},
   "outputs": [],
   "source": [
    "# sanity check\n",
    "freq_extract = {key : value for key, value in zip(titles, freq)} \n",
    "f = open('../test_files/freq_extract.txt', 'w')\n",
    "for key in freq_extract:\n",
    "    f.write(key + \":\" + str(freq_extract[key]) + \"\\n\")\n",
    "f.close()"
   ]
  },
  {
   "cell_type": "code",
   "execution_count": 25,
   "metadata": {},
   "outputs": [
    {
     "data": {
      "text/plain": [
       "136"
      ]
     },
     "execution_count": 25,
     "metadata": {},
     "output_type": "execute_result"
    }
   ],
   "source": [
    "# sanity check\n",
    "f = open('../test_files/s1.txt', 'w')\n",
    "for i in range(len(s1)):\n",
    "    f.write(str(s1[i]))\n",
    "    f.write('\\n')\n",
    "f.close()\n",
    "\n",
    "f = open('../test_files/s2.txt', 'w')\n",
    "for i in range(len(s2)):\n",
    "    f.write(str(s2[i]))\n",
    "    f.write('\\n')\n",
    "f.close()\n",
    "\n",
    "f = open('../test_files/s3.txt', 'w')\n",
    "for i in range(len(s3)):\n",
    "    f.write(str(s3[i]))\n",
    "    f.write('\\n')\n",
    "f.close()\n",
    "\n",
    "f = open('../test_files/s4.txt', 'w')\n",
    "for i in range(len(s4)):\n",
    "    f.write(str(s4[i]))\n",
    "    f.write('\\n')\n",
    "f.close()\n",
    "\n",
    "f = open('../test_files/s5.txt', 'w')\n",
    "for i in range(len(s5)):\n",
    "    f.write(str(s5[i]))\n",
    "    f.write('\\n')\n",
    "f.close()\n",
    "\n",
    "len(titles)"
   ]
  },
  {
   "cell_type": "code",
   "execution_count": 26,
   "metadata": {},
   "outputs": [
    {
     "data": {
      "text/plain": [
       "103"
      ]
     },
     "execution_count": 26,
     "metadata": {},
     "output_type": "execute_result"
    }
   ],
   "source": [
    "# brute force to increase accuracy\n",
    "for i in range(len(titles)):\n",
    "    if \"帝\" in titles[i]:\n",
    "        titles[i] = ''\n",
    "\n",
    "for i in range(len(titles)):\n",
    "    for num in num_list:\n",
    "        if titles[i] != '' and titles[i][-1] == num:\n",
    "            titles[i] = ''\n",
    "            break\n",
    "    \n",
    "titles = [item for item in titles if item != '']\n",
    "len(titles)"
   ]
  },
  {
   "cell_type": "code",
   "execution_count": 27,
   "metadata": {},
   "outputs": [
    {
     "data": {
      "text/plain": [
       "100"
      ]
     },
     "execution_count": 27,
     "metadata": {},
     "output_type": "execute_result"
    }
   ],
   "source": [
    "# Remerge substrings to meaningful larger string: 宁军节度使 ==> 广宁军节度使 ...\n",
    "merged = []\n",
    "for i in range(len(titles)-1):\n",
    "    for j in range(1, len(titles)):\n",
    "        if (titles[i] != '' and titles[j] != ''):\n",
    "            if (titles[i] in titles[j]):\n",
    "                if len(titles[j]) - len(titles[i]) == 1:\n",
    "                    merged.append((titles[i], titles[j]))\n",
    "                    titles[i] = ''\n",
    "            elif (titles[j] in titles[i]):\n",
    "                if (len(titles[i]) - len(titles[j])) == 1:\n",
    "                    merged.append((titles[j], titles[i]))\n",
    "                    titles[j] = ''\n",
    "titles = [item for item in titles if item != '']\n",
    "\n",
    "len(titles)"
   ]
  },
  {
   "cell_type": "code",
   "execution_count": 28,
   "metadata": {},
   "outputs": [],
   "source": [
    "# Brute force to increase accuracy : if the title comes with a verb, get rid of that verb\n",
    "verb_list = ['号', '赠', '进', '封', '领', '除', '置', '提举', '令', '命', '请', '议', '试', '迁', '诏', '赐', '加', '率', '遣', '时']\n",
    "verb_extract = []\n",
    "for i in range(len(titles)):\n",
    "    for v in verb_list:\n",
    "        if titles[i][0:len(v)] == v:\n",
    "            verb_extract.append(titles[i])\n",
    "            titles[i] = titles[i][len(v):]"
   ]
  },
  {
   "cell_type": "code",
   "execution_count": 29,
   "metadata": {},
   "outputs": [
    {
     "data": {
      "text/plain": [
       "84"
      ]
     },
     "execution_count": 29,
     "metadata": {},
     "output_type": "execute_result"
    }
   ],
   "source": [
    "titles = list(set(titles))\n",
    "\n",
    "# sort the words starting with the same character\n",
    "\n",
    "for i in range(len(titles)-1):\n",
    "    cur = i+1\n",
    "    for j in range(i+1, len(titles)):\n",
    "        if titles[j][0] == titles[i][0]:\n",
    "            replaced = titles[cur]\n",
    "            titles[cur] = titles[j]\n",
    "            titles[j] = replaced\n",
    "            cur += 1\n",
    "    i = cur           \n",
    "\n",
    "titles = sorted(titles, reverse=True)\n",
    "\n",
    "len(titles)"
   ]
  },
  {
   "cell_type": "code",
   "execution_count": 30,
   "metadata": {},
   "outputs": [],
   "source": [
    "f = open('../test_files/sorted.txt', 'w')\n",
    "for title in titles:\n",
    "    f.write(title + \"\\n\")\n",
    "f.close()\n",
    "\n",
    "f = open('../test_files/verb.txt', 'w')\n",
    "for title in verb_extract:\n",
    "    f.write(title + \"\\n\")\n",
    "f.close()\n",
    "\n",
    "f = open('../test_files/merged.txt', 'w')\n",
    "for item in merged:\n",
    "    f.write(str(item) + \"\\n\")\n",
    "f.close()"
   ]
  },
  {
   "cell_type": "code",
   "execution_count": 32,
   "metadata": {},
   "outputs": [
    {
     "data": {
      "text/plain": [
       "{}"
      ]
     },
     "execution_count": 32,
     "metadata": {},
     "output_type": "execute_result"
    }
   ],
   "source": [
    "# The list contains lots of n=4 useful office titles. \n",
    "# Therefore, set threshold to be 4 representing 4 grams. \n",
    "n4gram = dict()\n",
    "for i in range(len(titles)):\n",
    "    if len(titles[i]) >= 4:\n",
    "        n4 = titles[i][0:4]\n",
    "        if n4 not in n4gram:\n",
    "            n4gram[n4] = 1\n",
    "        else:\n",
    "            n4gram[n4] += 1\n",
    "\n",
    "n4gram = {key:val for key, val in n4gram.items() if val >= 8}\n",
    "n4gram"
   ]
  },
  {
   "cell_type": "code",
   "execution_count": 33,
   "metadata": {},
   "outputs": [],
   "source": [
    "for i in range(len(titles)):\n",
    "    for key in n4gram:\n",
    "        if titles[i][0:4] == key:\n",
    "            titles[i] = key"
   ]
  },
  {
   "cell_type": "code",
   "execution_count": 34,
   "metadata": {},
   "outputs": [
    {
     "data": {
      "text/plain": [
       "84"
      ]
     },
     "execution_count": 34,
     "metadata": {},
     "output_type": "execute_result"
    }
   ],
   "source": [
    "titles = list(set(titles))\n",
    "\n",
    "# sort same few words\n",
    "\n",
    "for i in range(len(titles)-1):\n",
    "    cur = i+1\n",
    "    for j in range(i+1, len(titles)):\n",
    "        if titles[j][0] == titles[i][0]:\n",
    "            replaced = titles[cur]\n",
    "            titles[cur] = titles[j]\n",
    "            titles[j] = replaced\n",
    "            cur += 1\n",
    "    i = cur           \n",
    "\n",
    "titles = sorted(titles, reverse=True)\n",
    "\n",
    "len(titles)"
   ]
  },
  {
   "cell_type": "code",
   "execution_count": 35,
   "metadata": {},
   "outputs": [],
   "source": [
    "# Saving file\n",
    "f = open('../titles_extracted/%s_titles.txt' % source, 'w')\n",
    "for title in titles:\n",
    "    f.write(title + \"\\n\")\n",
    "f.close()"
   ]
  },
  {
   "cell_type": "code",
   "execution_count": 36,
   "metadata": {},
   "outputs": [],
   "source": [
    "address = pd.read_csv('../cbdb_named_entities/cbdb_entity_addresses.csv')"
   ]
  },
  {
   "cell_type": "code",
   "execution_count": 37,
   "metadata": {},
   "outputs": [
    {
     "data": {
      "text/html": [
       "<div>\n",
       "<style scoped>\n",
       "    .dataframe tbody tr th:only-of-type {\n",
       "        vertical-align: middle;\n",
       "    }\n",
       "\n",
       "    .dataframe tbody tr th {\n",
       "        vertical-align: top;\n",
       "    }\n",
       "\n",
       "    .dataframe thead th {\n",
       "        text-align: right;\n",
       "    }\n",
       "</style>\n",
       "<table border=\"1\" class=\"dataframe\">\n",
       "  <thead>\n",
       "    <tr style=\"text-align: right;\">\n",
       "      <th></th>\n",
       "      <th>addr_chn</th>\n",
       "    </tr>\n",
       "  </thead>\n",
       "  <tbody>\n",
       "    <tr>\n",
       "      <th>10102</th>\n",
       "      <td>灤縣</td>\n",
       "    </tr>\n",
       "    <tr>\n",
       "      <th>3486</th>\n",
       "      <td>砷農架林區</td>\n",
       "    </tr>\n",
       "    <tr>\n",
       "      <th>6607</th>\n",
       "      <td>臨山衛</td>\n",
       "    </tr>\n",
       "  </tbody>\n",
       "</table>\n",
       "</div>"
      ],
      "text/plain": [
       "      addr_chn\n",
       "10102       灤縣\n",
       "3486     砷農架林區\n",
       "6607       臨山衛"
      ]
     },
     "execution_count": 37,
     "metadata": {},
     "output_type": "execute_result"
    }
   ],
   "source": [
    "address.sample(3)"
   ]
  },
  {
   "cell_type": "code",
   "execution_count": 38,
   "metadata": {},
   "outputs": [],
   "source": [
    "offices = pd.read_csv('../cbdb_named_entities/cbdb_entity_offices.csv')"
   ]
  },
  {
   "cell_type": "code",
   "execution_count": 39,
   "metadata": {},
   "outputs": [
    {
     "data": {
      "text/html": [
       "<div>\n",
       "<style scoped>\n",
       "    .dataframe tbody tr th:only-of-type {\n",
       "        vertical-align: middle;\n",
       "    }\n",
       "\n",
       "    .dataframe tbody tr th {\n",
       "        vertical-align: top;\n",
       "    }\n",
       "\n",
       "    .dataframe thead th {\n",
       "        text-align: right;\n",
       "    }\n",
       "</style>\n",
       "<table border=\"1\" class=\"dataframe\">\n",
       "  <thead>\n",
       "    <tr style=\"text-align: right;\">\n",
       "      <th></th>\n",
       "      <th>office_name</th>\n",
       "      <th>dynasty_index</th>\n",
       "    </tr>\n",
       "  </thead>\n",
       "  <tbody>\n",
       "    <tr>\n",
       "      <th>26628</th>\n",
       "      <td>貢院搜檢</td>\n",
       "      <td>20.0</td>\n",
       "    </tr>\n",
       "    <tr>\n",
       "      <th>5630</th>\n",
       "      <td>遙郡節度觀察留後</td>\n",
       "      <td>15.0</td>\n",
       "    </tr>\n",
       "    <tr>\n",
       "      <th>29465</th>\n",
       "      <td>詳定官</td>\n",
       "      <td>15.0</td>\n",
       "    </tr>\n",
       "  </tbody>\n",
       "</table>\n",
       "</div>"
      ],
      "text/plain": [
       "      office_name  dynasty_index\n",
       "26628        貢院搜檢           20.0\n",
       "5630     遙郡節度觀察留後           15.0\n",
       "29465         詳定官           15.0"
      ]
     },
     "execution_count": 39,
     "metadata": {},
     "output_type": "execute_result"
    }
   ],
   "source": [
    "offices.sample(3)"
   ]
  },
  {
   "cell_type": "code",
   "execution_count": 40,
   "metadata": {},
   "outputs": [
    {
     "name": "stderr",
     "output_type": "stream",
     "text": [
      "100%|██████████| 84/84 [00:01<00:00, 48.03it/s]\n"
     ]
    }
   ],
   "source": [
    "# Convert simplified chinese to traditional chinese\n",
    "for i in tqdm(range(len(titles))):\n",
    "    converter = opencc.OpenCC('s2t.json')\n",
    "    titles[i] = converter.convert(titles[i])  "
   ]
  },
  {
   "cell_type": "code",
   "execution_count": 41,
   "metadata": {},
   "outputs": [
    {
     "data": {
      "text/plain": [
       "'黃水北流注'"
      ]
     },
     "execution_count": 41,
     "metadata": {},
     "output_type": "execute_result"
    }
   ],
   "source": [
    "titles[0]"
   ]
  },
  {
   "cell_type": "code",
   "execution_count": 42,
   "metadata": {},
   "outputs": [],
   "source": [
    "df = pd.DataFrame(titles)"
   ]
  },
  {
   "cell_type": "code",
   "execution_count": 43,
   "metadata": {},
   "outputs": [],
   "source": [
    "df['faddress_first2'] = 0       # first two words of the title match the first two words of sample address\n",
    "df['laddress_first2'] = 0       # last two words of the title match the first two words of sample address\n",
    "df['faddress_last2'] = 0         \n",
    "df['laddress_last2'] = 0\n",
    "df['foffice_first2'] = 0\n",
    "df['loffice_first2'] = 0\n",
    "df['foffice_last2'] = 0\n",
    "df['loffice_last2'] = 0"
   ]
  },
  {
   "cell_type": "code",
   "execution_count": 44,
   "metadata": {},
   "outputs": [
    {
     "name": "stderr",
     "output_type": "stream",
     "text": [
      "  0%|          | 0/84 [00:00<?, ?it/s]<ipython-input-44-ef6922e0c413>:6: SettingWithCopyWarning: \n",
      "A value is trying to be set on a copy of a slice from a DataFrame\n",
      "\n",
      "See the caveats in the documentation: https://pandas.pydata.org/pandas-docs/stable/user_guide/indexing.html#returning-a-view-versus-a-copy\n",
      "  df['faddress_first2'][i] = 1\n",
      " 12%|█▏        | 10/84 [00:02<00:12,  5.71it/s]<ipython-input-44-ef6922e0c413>:9: SettingWithCopyWarning: \n",
      "A value is trying to be set on a copy of a slice from a DataFrame\n",
      "\n",
      "See the caveats in the documentation: https://pandas.pydata.org/pandas-docs/stable/user_guide/indexing.html#returning-a-view-versus-a-copy\n",
      "  df['laddress_first2'][i] = 1\n",
      " 77%|███████▋  | 65/84 [00:12<00:04,  4.15it/s]<ipython-input-44-ef6922e0c413>:12: SettingWithCopyWarning: \n",
      "A value is trying to be set on a copy of a slice from a DataFrame\n",
      "\n",
      "See the caveats in the documentation: https://pandas.pydata.org/pandas-docs/stable/user_guide/indexing.html#returning-a-view-versus-a-copy\n",
      "  df['faddress_last2'][i] = 1\n",
      "100%|██████████| 84/84 [00:15<00:00,  5.27it/s]\n"
     ]
    }
   ],
   "source": [
    "# Compare with CBDB based on first or last 2 words in order to get rid of office titles that contain names at the end of the strings\n",
    "for i in tqdm(range(len(titles))):\n",
    "    for j in address.index:\n",
    "        # tries to match the first two words of the title \n",
    "        if titles[i][:2] == address['addr_chn'][j][:2]:      \n",
    "            df['faddress_first2'][i] = 1\n",
    "            break\n",
    "        if titles[i][-2:] == address['addr_chn'][j][:2]:\n",
    "            df['laddress_first2'][i] = 1\n",
    "            break\n",
    "        if titles[i][:2] == address['addr_chn'][j][-2:]:\n",
    "            df['faddress_last2'][i] = 1\n",
    "            break\n",
    "        if titles[i][-2:] == address['addr_chn'][j][-2:]:\n",
    "            df['laddress_last2'][i] = 1\n",
    "            break"
   ]
  },
  {
   "cell_type": "code",
   "execution_count": 45,
   "metadata": {},
   "outputs": [
    {
     "name": "stderr",
     "output_type": "stream",
     "text": [
      " 11%|█         | 9/84 [00:05<00:46,  1.62it/s]<ipython-input-45-3da8a7faaefe>:7: SettingWithCopyWarning: \n",
      "A value is trying to be set on a copy of a slice from a DataFrame\n",
      "\n",
      "See the caveats in the documentation: https://pandas.pydata.org/pandas-docs/stable/user_guide/indexing.html#returning-a-view-versus-a-copy\n",
      "  df['loffice_first2'][i] = 1\n",
      "<ipython-input-45-3da8a7faaefe>:4: SettingWithCopyWarning: \n",
      "A value is trying to be set on a copy of a slice from a DataFrame\n",
      "\n",
      "See the caveats in the documentation: https://pandas.pydata.org/pandas-docs/stable/user_guide/indexing.html#returning-a-view-versus-a-copy\n",
      "  df['foffice_first2'][i] = 1\n",
      " 14%|█▍        | 12/84 [00:06<00:31,  2.25it/s]<ipython-input-45-3da8a7faaefe>:10: SettingWithCopyWarning: \n",
      "A value is trying to be set on a copy of a slice from a DataFrame\n",
      "\n",
      "See the caveats in the documentation: https://pandas.pydata.org/pandas-docs/stable/user_guide/indexing.html#returning-a-view-versus-a-copy\n",
      "  df['foffice_last2'][i] = 1\n",
      "100%|██████████| 84/84 [00:35<00:00,  2.38it/s]\n"
     ]
    }
   ],
   "source": [
    "for i in tqdm(range(len(titles))):\n",
    "    for j in offices.index:\n",
    "        if titles[i][:2] == offices['office_name'][j][:2]:\n",
    "            df['foffice_first2'][i] = 1\n",
    "            break\n",
    "        if titles[i][-2:] == offices['office_name'][j][:2]:\n",
    "            df['loffice_first2'][i] = 1\n",
    "            break\n",
    "        if titles[i][:2] == offices['office_name'][j][-2:]:\n",
    "            df['foffice_last2'][i] = 1\n",
    "            break\n",
    "        if titles[i][-2:] == offices['office_name'][j][-2:]:\n",
    "            df['loffice_last2'][i] = 1\n",
    "            break"
   ]
  },
  {
   "cell_type": "code",
   "execution_count": 46,
   "metadata": {},
   "outputs": [
    {
     "data": {
      "text/html": [
       "<div>\n",
       "<style scoped>\n",
       "    .dataframe tbody tr th:only-of-type {\n",
       "        vertical-align: middle;\n",
       "    }\n",
       "\n",
       "    .dataframe tbody tr th {\n",
       "        vertical-align: top;\n",
       "    }\n",
       "\n",
       "    .dataframe thead th {\n",
       "        text-align: right;\n",
       "    }\n",
       "</style>\n",
       "<table border=\"1\" class=\"dataframe\">\n",
       "  <thead>\n",
       "    <tr style=\"text-align: right;\">\n",
       "      <th></th>\n",
       "      <th>0</th>\n",
       "      <th>faddress_first2</th>\n",
       "      <th>laddress_first2</th>\n",
       "      <th>faddress_last2</th>\n",
       "      <th>laddress_last2</th>\n",
       "      <th>foffice_first2</th>\n",
       "      <th>loffice_first2</th>\n",
       "      <th>foffice_last2</th>\n",
       "      <th>loffice_last2</th>\n",
       "    </tr>\n",
       "  </thead>\n",
       "  <tbody>\n",
       "    <tr>\n",
       "      <th>38</th>\n",
       "      <td>沁水縣西北</td>\n",
       "      <td>0</td>\n",
       "      <td>1</td>\n",
       "      <td>0</td>\n",
       "      <td>0</td>\n",
       "      <td>0</td>\n",
       "      <td>1</td>\n",
       "      <td>0</td>\n",
       "      <td>0</td>\n",
       "    </tr>\n",
       "    <tr>\n",
       "      <th>6</th>\n",
       "      <td>雍州刺史諸葛緒</td>\n",
       "      <td>1</td>\n",
       "      <td>0</td>\n",
       "      <td>0</td>\n",
       "      <td>0</td>\n",
       "      <td>0</td>\n",
       "      <td>0</td>\n",
       "      <td>0</td>\n",
       "      <td>0</td>\n",
       "    </tr>\n",
       "    <tr>\n",
       "      <th>74</th>\n",
       "      <td>仙人王子喬</td>\n",
       "      <td>0</td>\n",
       "      <td>0</td>\n",
       "      <td>0</td>\n",
       "      <td>0</td>\n",
       "      <td>0</td>\n",
       "      <td>0</td>\n",
       "      <td>0</td>\n",
       "      <td>0</td>\n",
       "    </tr>\n",
       "  </tbody>\n",
       "</table>\n",
       "</div>"
      ],
      "text/plain": [
       "          0  faddress_first2  laddress_first2  faddress_last2  laddress_last2  \\\n",
       "38    沁水縣西北                0                1               0               0   \n",
       "6   雍州刺史諸葛緒                1                0               0               0   \n",
       "74    仙人王子喬                0                0               0               0   \n",
       "\n",
       "    foffice_first2  loffice_first2  foffice_last2  loffice_last2  \n",
       "38               0               1              0              0  \n",
       "6                0               0              0              0  \n",
       "74               0               0              0              0  "
      ]
     },
     "execution_count": 46,
     "metadata": {},
     "output_type": "execute_result"
    }
   ],
   "source": [
    "df.sample(3)"
   ]
  },
  {
   "cell_type": "code",
   "execution_count": 47,
   "metadata": {},
   "outputs": [],
   "source": [
    "df.to_csv('../test_files/compare_office_original.csv')"
   ]
  },
  {
   "cell_type": "code",
   "execution_count": 48,
   "metadata": {},
   "outputs": [
    {
     "name": "stderr",
     "output_type": "stream",
     "text": [
      "<ipython-input-48-2b92df192a53>:1: FutureWarning: Dropping of nuisance columns in DataFrame reductions (with 'numeric_only=None') is deprecated; in a future version this will raise TypeError.  Select only valid columns before calling the reduction.\n",
      "  df = df[(df.sum(axis=1) != 0)]\n"
     ]
    }
   ],
   "source": [
    "df = df[(df.sum(axis=1) != 0)]"
   ]
  },
  {
   "cell_type": "code",
   "execution_count": 49,
   "metadata": {},
   "outputs": [],
   "source": [
    "df = df[(df['laddress_last2'] != 0) | (df['loffice_last2'] != 0)]"
   ]
  },
  {
   "cell_type": "code",
   "execution_count": 50,
   "metadata": {},
   "outputs": [],
   "source": [
    "df.to_csv('../test_files/compare_office_nonzero.csv')"
   ]
  },
  {
   "cell_type": "code",
   "execution_count": 51,
   "metadata": {},
   "outputs": [],
   "source": [
    "title_CBDB = pd.read_csv('../test_files/compare_office_nonzero.csv')"
   ]
  },
  {
   "cell_type": "code",
   "execution_count": 52,
   "metadata": {},
   "outputs": [
    {
     "data": {
      "text/html": [
       "<div>\n",
       "<style scoped>\n",
       "    .dataframe tbody tr th:only-of-type {\n",
       "        vertical-align: middle;\n",
       "    }\n",
       "\n",
       "    .dataframe tbody tr th {\n",
       "        vertical-align: top;\n",
       "    }\n",
       "\n",
       "    .dataframe thead th {\n",
       "        text-align: right;\n",
       "    }\n",
       "</style>\n",
       "<table border=\"1\" class=\"dataframe\">\n",
       "  <thead>\n",
       "    <tr style=\"text-align: right;\">\n",
       "      <th></th>\n",
       "      <th>Unnamed: 0</th>\n",
       "      <th>0</th>\n",
       "      <th>faddress_first2</th>\n",
       "      <th>laddress_first2</th>\n",
       "      <th>faddress_last2</th>\n",
       "      <th>laddress_last2</th>\n",
       "      <th>foffice_first2</th>\n",
       "      <th>loffice_first2</th>\n",
       "      <th>foffice_last2</th>\n",
       "      <th>loffice_last2</th>\n",
       "    </tr>\n",
       "  </thead>\n",
       "  <tbody>\n",
       "  </tbody>\n",
       "</table>\n",
       "</div>"
      ],
      "text/plain": [
       "Empty DataFrame\n",
       "Columns: [Unnamed: 0, 0, faddress_first2, laddress_first2, faddress_last2, laddress_last2, foffice_first2, loffice_first2, foffice_last2, loffice_last2]\n",
       "Index: []"
      ]
     },
     "execution_count": 52,
     "metadata": {},
     "output_type": "execute_result"
    }
   ],
   "source": [
    "title_CBDB"
   ]
  },
  {
   "cell_type": "code",
   "execution_count": 53,
   "metadata": {},
   "outputs": [],
   "source": [
    "titles = title_CBDB.iloc[:,1].tolist()"
   ]
  },
  {
   "cell_type": "code",
   "execution_count": 54,
   "metadata": {},
   "outputs": [],
   "source": [
    "# Saving file\n",
    "f = open('../titles_extracted/%s_titles_cbdb.txt' % source, 'w')\n",
    "for title in titles:\n",
    "    f.write(title + \"\\n\")\n",
    "f.close()"
   ]
  }
 ],
 "metadata": {
  "kernelspec": {
   "display_name": "Python 3",
   "language": "python",
   "name": "python3"
  },
  "language_info": {
   "codemirror_mode": {
    "name": "ipython",
    "version": 3
   },
   "file_extension": ".py",
   "mimetype": "text/x-python",
   "name": "python",
   "nbconvert_exporter": "python",
   "pygments_lexer": "ipython3",
   "version": "3.9.12"
  }
 },
 "nbformat": 4,
 "nbformat_minor": 4
}
